{
 "cells": [
  {
   "cell_type": "code",
   "execution_count": null,
   "metadata": {},
   "outputs": [],
   "source": [
    "import sys\n",
    "from cv2 import cv2 as cv\n",
    "\n",
    "def medianBulr(image):\n",
    "    medianbulr = cv.medianBlur(image,3)\n",
    "    return medianbulr\n",
    "def hist(image):\n",
    "    hist = cv.equalizeHist(image)\n",
    "    return hist\n",
    "image = cv.imread('imageQ5.png',0)\n",
    "\n",
    "image = medianBulr(image)\n",
    "image = hist(image)\n",
    "\n",
    "\n",
    "cv.imshow('im5',image)\n",
    "cv.imwrite('restored_image.png',image)\n",
    "cv.waitKey(0)\n",
    "cv.destroyAllWindows()"
   ]
  },
  {
   "cell_type": "code",
   "execution_count": null,
   "metadata": {},
   "outputs": [],
   "source": []
  }
 ],
 "metadata": {
  "kernelspec": {
   "display_name": "Python 3",
   "language": "python",
   "name": "python3"
  },
  "language_info": {
   "codemirror_mode": {
    "name": "ipython",
    "version": 3
   },
   "file_extension": ".py",
   "mimetype": "text/x-python",
   "name": "python",
   "nbconvert_exporter": "python",
   "pygments_lexer": "ipython3",
   "version": "3.7.3"
  }
 },
 "nbformat": 4,
 "nbformat_minor": 4
}
